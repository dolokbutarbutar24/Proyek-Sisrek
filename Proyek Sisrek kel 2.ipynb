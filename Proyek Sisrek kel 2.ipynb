{
 "cells": [
  {
   "cell_type": "markdown",
   "id": "a33e35e0-d768-461f-8d48-62b2273dddfa",
   "metadata": {},
   "source": [
    "# Recommendation System Project "
   ]
  },
  {
   "cell_type": "markdown",
   "id": "4a8718ee-a523-4de7-a21f-b7414315a821",
   "metadata": {},
   "source": [
    "Group 02 :\n",
    " "
   ]
  },
  {
   "cell_type": "markdown",
   "id": "ce22e40c-1a0a-4308-bfbf-ec1e033a3af5",
   "metadata": {},
   "source": [
    "### **Import library & konfigurasi**"
   ]
  },
  {
   "cell_type": "code",
   "execution_count": 60,
   "id": "dae3aed5-d187-4dc7-a125-84fbce0a6495",
   "metadata": {},
   "outputs": [],
   "source": [
    "# Cell 1: Import libraries & konfigurasi\n",
    "import os\n",
    "import numpy as np\n",
    "import pandas as pd\n",
    "from scipy import sparse\n",
    "from sklearn.preprocessing import LabelEncoder\n",
    "from tqdm import tqdm\n",
    "\n",
    "# Lokasi file kamu\n",
    "DATA_DIR = r\"D:\\Perkuliahaan\\SemesterVII\\System Recommendation\\Proyek\\data-books\"\n",
    "\n",
    "# Nama file\n",
    "TRAIN_FILE = \"train.csv\"\n",
    "TARGET_USERS_FILE = \"data_target_users_test.csv\"\n",
    "SAMPLE_SUB_FILE = \"sample_submission.csv\"\n",
    "\n",
    "# Parameter model\n",
    "N_RECS = 10\n",
    "ALS_ON = True                # aktifkan ALS\n",
    "ALS_FACTORS = 32             # jumlah faktor laten\n",
    "ALS_ITER = 8                 # iterasi pelatihan\n",
    "ALS_REG = 0.1                # regularisasi\n",
    "ALS_ALPHA = 40               # parameter confidence\n"
   ]
  },
  {
   "cell_type": "markdown",
   "id": "fb54fb3c-e36a-41c9-8608-e1d076bffd63",
   "metadata": {},
   "source": [
    "### **Load dan cek data**"
   ]
  },
  {
   "cell_type": "code",
   "execution_count": 62,
   "id": "fefbab71-3dc9-487f-9ae2-528397fc8a8d",
   "metadata": {},
   "outputs": [
    {
     "name": "stdout",
     "output_type": "stream",
     "text": [
      "Train shape: (269764, 2)\n",
      "Test users shape: (13876, 1)\n",
      "Sample submission shape: (2, 2)\n"
     ]
    },
    {
     "data": {
      "text/html": [
       "<div>\n",
       "<style scoped>\n",
       "    .dataframe tbody tr th:only-of-type {\n",
       "        vertical-align: middle;\n",
       "    }\n",
       "\n",
       "    .dataframe tbody tr th {\n",
       "        vertical-align: top;\n",
       "    }\n",
       "\n",
       "    .dataframe thead th {\n",
       "        text-align: right;\n",
       "    }\n",
       "</style>\n",
       "<table border=\"1\" class=\"dataframe\">\n",
       "  <thead>\n",
       "    <tr style=\"text-align: right;\">\n",
       "      <th></th>\n",
       "      <th>user_id</th>\n",
       "      <th>item_id</th>\n",
       "    </tr>\n",
       "  </thead>\n",
       "  <tbody>\n",
       "    <tr>\n",
       "      <th>0</th>\n",
       "      <td>8</td>\n",
       "      <td>0002005018</td>\n",
       "    </tr>\n",
       "    <tr>\n",
       "      <th>1</th>\n",
       "      <td>8</td>\n",
       "      <td>074322678X</td>\n",
       "    </tr>\n",
       "    <tr>\n",
       "      <th>2</th>\n",
       "      <td>8</td>\n",
       "      <td>0887841740</td>\n",
       "    </tr>\n",
       "    <tr>\n",
       "      <th>3</th>\n",
       "      <td>8</td>\n",
       "      <td>1552041778</td>\n",
       "    </tr>\n",
       "    <tr>\n",
       "      <th>4</th>\n",
       "      <td>8</td>\n",
       "      <td>1567407781</td>\n",
       "    </tr>\n",
       "  </tbody>\n",
       "</table>\n",
       "</div>"
      ],
      "text/plain": [
       "   user_id     item_id\n",
       "0        8  0002005018\n",
       "1        8  074322678X\n",
       "2        8  0887841740\n",
       "3        8  1552041778\n",
       "4        8  1567407781"
      ]
     },
     "execution_count": 62,
     "metadata": {},
     "output_type": "execute_result"
    }
   ],
   "source": [
    "# Cell 2: Load data\n",
    "train = pd.read_csv(os.path.join(DATA_DIR, TRAIN_FILE))\n",
    "test_users = pd.read_csv(os.path.join(DATA_DIR, TARGET_USERS_FILE))\n",
    "sample_sub = pd.read_csv(os.path.join(DATA_DIR, SAMPLE_SUB_FILE))\n",
    "\n",
    "print(\"Train shape:\", train.shape)\n",
    "print(\"Test users shape:\", test_users.shape)\n",
    "print(\"Sample submission shape:\", sample_sub.shape)\n",
    "train.head()\n"
   ]
  },
  {
   "cell_type": "markdown",
   "id": "8291e0c0-8762-422d-a4d9-fc5d4db537c0",
   "metadata": {},
   "source": [
    "### **Pra - Proses data & encoding**"
   ]
  },
  {
   "cell_type": "code",
   "execution_count": 64,
   "id": "18b4e330-7cf8-47ba-b7bd-ed1e860377db",
   "metadata": {},
   "outputs": [
    {
     "name": "stdout",
     "output_type": "stream",
     "text": [
      "Total users: 13876, Total items: 123069\n",
      "Shape matriks user-item: (13876, 123069)\n"
     ]
    }
   ],
   "source": [
    "# Cell 3: Preprocessing & encoding\n",
    "def infer_columns(df):\n",
    "    cols = df.columns.tolist()\n",
    "    user_col = None\n",
    "    item_col = None\n",
    "    for c in cols:\n",
    "        if \"user\" in c.lower(): user_col = c\n",
    "        if \"item\" in c.lower(): item_col = c\n",
    "    return user_col, item_col\n",
    "\n",
    "u_col, i_col = infer_columns(train)\n",
    "train['rating'] = 1  # implicit\n",
    "train = train[[u_col, i_col, 'rating']].rename(columns={u_col:'user', i_col:'item'})\n",
    "\n",
    "# Encode id\n",
    "user_enc = LabelEncoder()\n",
    "item_enc = LabelEncoder()\n",
    "train['uidx'] = user_enc.fit_transform(train['user'])\n",
    "train['iidx'] = item_enc.fit_transform(train['item'])\n",
    "\n",
    "n_users = train['uidx'].nunique()\n",
    "n_items = train['iidx'].nunique()\n",
    "print(f\"Total users: {n_users}, Total items: {n_items}\")\n",
    "\n",
    "# Sparse matrix user-item\n",
    "R = sparse.csr_matrix((train['rating'], (train['uidx'], train['iidx'])), shape=(n_users, n_items))\n",
    "print(\"Shape matriks user-item:\", R.shape)\n"
   ]
  },
  {
   "cell_type": "markdown",
   "id": "a8cdf806-6840-4975-aa34-03177ecc3fc4",
   "metadata": {},
   "source": [
    "### **Fungsi rekomendasi (Popularity, IBCF, ALS)**"
   ]
  },
  {
   "cell_type": "code",
   "execution_count": 66,
   "id": "3adc9d5d-5ff2-42d7-bfeb-3399c7bb6c70",
   "metadata": {},
   "outputs": [],
   "source": [
    "# Cell 4: Define functions\n",
    "\n",
    "# 1. Popularity baseline\n",
    "def popularity_recommend(R, user_idx, N=10, exclude_seen=True):\n",
    "    item_pop = np.array(R.sum(axis=0)).ravel()\n",
    "    if exclude_seen and user_idx is not None:\n",
    "        seen = set(R[user_idx].nonzero()[1])\n",
    "        candidates = [(i, p) for i,p in enumerate(item_pop) if i not in seen]\n",
    "    else:\n",
    "        candidates = list(enumerate(item_pop))\n",
    "    return [i for i,_ in sorted(candidates, key=lambda x: -x[1])[:N]]\n",
    "\n"
   ]
  },
  {
   "cell_type": "code",
   "execution_count": 67,
   "id": "b9534be9-8ad9-4e7e-8e0f-60d5c0d0bdee",
   "metadata": {},
   "outputs": [],
   "source": [
    "# 2. Item-Based Collaborative Filtering\n",
    "def item_based_recommend(R, user_idx, N=10):\n",
    "    if user_idx is None:\n",
    "        return np.argsort(-np.array(R.sum(axis=0)).ravel())[:N]\n",
    "    user_items = R[user_idx].nonzero()[1]\n",
    "    if len(user_items) == 0:\n",
    "        return popularity_recommend(R, user_idx, N)\n",
    "    Iu = R.T.tocsr()\n",
    "    profile = Iu[user_items].sum(axis=0)\n",
    "    profile = np.asarray(profile).ravel()\n",
    "    item_norms = np.sqrt(Iu.multiply(Iu).sum(axis=1)).A1 + 1e-9\n",
    "    profile_norm = np.linalg.norm(profile) + 1e-9\n",
    "    scores = Iu.dot(profile) / (item_norms * profile_norm)\n",
    "    scores = np.array(scores).ravel()\n",
    "    scores[list(user_items)] = -np.inf\n",
    "    return np.argsort(-scores)[:N]\n",
    "\n"
   ]
  },
  {
   "cell_type": "code",
   "execution_count": 68,
   "id": "43c0506b-a7f7-44c5-a75a-604c1433be05",
   "metadata": {},
   "outputs": [],
   "source": [
    "# 3. Implicit ALS (Alternating Least Squares)\n",
    "def implicit_als(R_csr, factors=20, regularization=0.1, alpha=40, iterations=10):\n",
    "    users, items = R_csr.shape\n",
    "    X = np.random.normal(scale=0.01, size=(users, factors))\n",
    "    Y = np.random.normal(scale=0.01, size=(items, factors))\n",
    "    I_f = np.eye(factors)\n",
    "    R_csr = R_csr.tocsr()\n",
    "\n",
    "    for it in range(iterations):\n",
    "        print(f\"ALS iteration {it+1}/{iterations}\")\n",
    "        YtY = Y.T @ Y + regularization * I_f\n",
    "        for u in range(users):\n",
    "            start, end = R_csr.indptr[u], R_csr.indptr[u+1]\n",
    "            item_idxs = R_csr.indices[start:end]\n",
    "            if len(item_idxs) == 0:\n",
    "                continue\n",
    "            Cu = 1.0 + alpha * R_csr.data[start:end]\n",
    "            Pu = np.ones_like(Cu)\n",
    "            Y_i = Y[item_idxs]\n",
    "            A = YtY + (Y_i.T * (Cu - 1)).dot(Y_i)\n",
    "            b = (Y_i.T * Cu).dot(Pu)\n",
    "            X[u] = np.linalg.solve(A, b)\n",
    "        XtX = X.T @ X + regularization * I_f\n",
    "        R_csc = R_csr.tocsc()\n",
    "        for i in range(items):\n",
    "            start, end = R_csc.indptr[i], R_csc.indptr[i+1]\n",
    "            user_idxs = R_csc.indices[start:end]\n",
    "            if len(user_idxs) == 0:\n",
    "                continue\n",
    "            Ci = 1.0 + alpha * R_csc.data[start:end]\n",
    "            Pi = np.ones_like(Ci)\n",
    "            X_u = X[user_idxs]\n",
    "            A = XtX + (X_u.T * (Ci - 1)).dot(X_u)\n",
    "            b = (X_u.T * Ci).dot(Pi)\n",
    "            Y[i] = np.linalg.solve(A, b)\n",
    "    return X, Y\n"
   ]
  },
  {
   "cell_type": "markdown",
   "id": "09140ea9-a7f4-454b-b26e-c733c5e3b2b8",
   "metadata": {},
   "source": [
    "### **Train ALS**"
   ]
  },
  {
   "cell_type": "code",
   "execution_count": 70,
   "id": "8d1492da-9109-4128-86d5-08f85643fd73",
   "metadata": {},
   "outputs": [
    {
     "name": "stdout",
     "output_type": "stream",
     "text": [
      "Training ALS model...\n",
      "ALS iteration 1/8\n",
      "ALS iteration 2/8\n",
      "ALS iteration 3/8\n",
      "ALS iteration 4/8\n",
      "ALS iteration 5/8\n",
      "ALS iteration 6/8\n",
      "ALS iteration 7/8\n",
      "ALS iteration 8/8\n",
      "Training selesai.\n"
     ]
    }
   ],
   "source": [
    "# Cell 5: Train ALS (optional)\n",
    "if ALS_ON:\n",
    "    print(\"Training ALS model...\")\n",
    "    X, Y = implicit_als(R, factors=ALS_FACTORS, regularization=ALS_REG, alpha=ALS_ALPHA, iterations=ALS_ITER)\n",
    "    print(\"Training selesai.\")\n",
    "else:\n",
    "    X, Y = None, None\n",
    "    print(\"ALS dimatikan (gunakan baseline saja).\")\n"
   ]
  },
  {
   "cell_type": "markdown",
   "id": "b90fa8c3-6f4b-4e3f-abe4-4d4047bb27b3",
   "metadata": {},
   "source": [
    "### **Generate rekomendasi**"
   ]
  },
  {
   "cell_type": "code",
   "execution_count": 72,
   "id": "2a6c5b32-4985-4d72-a4bf-031d98695de1",
   "metadata": {},
   "outputs": [],
   "source": [
    "# Cell 6: Generate rekomendasi\n",
    "sample_user_col = [c for c in sample_sub.columns if 'user' in c.lower()][0]\n",
    "sample_users = sample_sub[sample_user_col].tolist()\n",
    "item_pop = np.array(R.sum(axis=0)).ravel()\n",
    "global_pop_ranking = np.argsort(-item_pop)\n",
    "\n",
    "pop_recs, ibcf_recs, als_recs = [], [], []\n",
    "\n",
    "\n"
   ]
  },
  {
   "cell_type": "code",
   "execution_count": 73,
   "id": "147a95a0-4048-4cfc-9f28-490cdb82d95c",
   "metadata": {},
   "outputs": [
    {
     "name": "stderr",
     "output_type": "stream",
     "text": [
      "Generate rekomendasi: 100%|██████████| 2/2 [00:00<00:00,  6.86it/s]\n"
     ]
    }
   ],
   "source": [
    "for su in tqdm(sample_users, desc=\"Generate rekomendasi\"):\n",
    "    uid = user_enc.transform([su])[0] if su in user_enc.classes_ else None\n",
    "\n",
    "    # Popularity\n",
    "    pop_idx = popularity_recommend(R, uid, N_RECS)\n",
    "    pop_list = item_enc.inverse_transform(pop_idx)\n",
    "    pop_recs.append(pop_list)\n",
    "\n",
    "    # IBCF\n",
    "    ibcf_idx = item_based_recommend(R, uid, N_RECS)\n",
    "    ibcf_list = item_enc.inverse_transform(ibcf_idx)\n",
    "    ibcf_recs.append(ibcf_list)\n",
    "\n",
    "    # ALS\n",
    "    if ALS_ON and X is not None and uid is not None:\n",
    "        scores = Y @ X[uid]\n",
    "        seen = set(R[uid].nonzero()[1])\n",
    "        scores[list(seen)] = -np.inf\n",
    "        top_idx = np.argsort(-scores)[:N_RECS]\n",
    "        als_list = item_enc.inverse_transform(top_idx)\n",
    "    else:\n",
    "        als_list = item_enc.inverse_transform(global_pop_ranking[:N_RECS])\n",
    "    als_recs.append(als_list)"
   ]
  },
  {
   "cell_type": "code",
   "execution_count": 74,
   "id": "b272b86c-8db9-455e-98b3-11a712656a3e",
   "metadata": {},
   "outputs": [
    {
     "name": "stdout",
     "output_type": "stream",
     "text": [
      "\n",
      "===== CONTOH HASIL REKOMENDASI (5 USER PERTAMA) =====\n",
      "\n",
      "👤 User 8\n",
      "   Popularity → ['0316666343' '0385504209' '0312195516' '0142001740' '059035342X'\n",
      " '0060928336' '0446672211' '0345337662' '0452282152' '0316601950']\n",
      "   IBCF       → ['0020811853' '0747251134' '0767904168' '0676972179' '0618335455'\n",
      " '0870211110' '0743618174' '0099535203' '0618485228' '0870443615']\n",
      "   ALS        → ['0316601950' '0375707972' '0385484518' '0451191145' '067976402X'\n",
      " '0375706771' '0142000205' '0316569321' '0440220602' '0345439104']\n",
      "------------------------------------------------------------\n",
      "👤 User 99\n",
      "   Popularity → ['0316666343' '0385504209' '0312195516' '0142001740' '059035342X'\n",
      " '0060928336' '0446672211' '0345337662' '0452282152' '0316601950']\n",
      "   IBCF       → ['0446677477' '0671034421' '0446528382' '0451524462' '0515130982'\n",
      " '0743453956' '0743453484' '0671537873' '0786015160' '031230899X']\n",
      "   ALS        → ['0316666343' '0156027321' '0786867647' '0060976845' '0385504209'\n",
      " '0671027360' '0446611867' '0385510438' '0446672211' '0312966091']\n",
      "------------------------------------------------------------\n"
     ]
    }
   ],
   "source": [
    "print(\"\\n===== CONTOH HASIL REKOMENDASI (5 USER PERTAMA) =====\\n\")\n",
    "for i in range(min(5, len(sample_users))):\n",
    "    print(f\"👤 User {sample_users[i]}\")\n",
    "    print(f\"   Popularity → {pop_recs[i]}\")\n",
    "    print(f\"   IBCF       → {ibcf_recs[i]}\")\n",
    "    print(f\"   ALS        → {als_recs[i]}\")\n",
    "    print(\"-\" * 60)"
   ]
  },
  {
   "cell_type": "markdown",
   "id": "bfb22350-8192-4583-acba-134fad1dbfeb",
   "metadata": {},
   "source": [
    "### **Evaluasi & simpan hasil**"
   ]
  },
  {
   "cell_type": "code",
   "execution_count": 90,
   "id": "0b30d307-bc6e-40ff-9fd6-ed6ffb9fe6a9",
   "metadata": {},
   "outputs": [
    {
     "name": "stdout",
     "output_type": "stream",
     "text": [
      "File disimpan ke: D:\\Perkuliahaan\\SemesterVII\\System Recommendation\\Proyek\\data-books\\recs_submission_long.csv\n"
     ]
    },
    {
     "data": {
      "text/html": [
       "<div>\n",
       "<style scoped>\n",
       "    .dataframe tbody tr th:only-of-type {\n",
       "        vertical-align: middle;\n",
       "    }\n",
       "\n",
       "    .dataframe tbody tr th {\n",
       "        vertical-align: top;\n",
       "    }\n",
       "\n",
       "    .dataframe thead th {\n",
       "        text-align: right;\n",
       "    }\n",
       "</style>\n",
       "<table border=\"1\" class=\"dataframe\">\n",
       "  <thead>\n",
       "    <tr style=\"text-align: right;\">\n",
       "      <th></th>\n",
       "      <th>user_id</th>\n",
       "      <th>model</th>\n",
       "      <th>rank</th>\n",
       "      <th>item_id</th>\n",
       "    </tr>\n",
       "  </thead>\n",
       "  <tbody>\n",
       "    <tr>\n",
       "      <th>0</th>\n",
       "      <td>8</td>\n",
       "      <td>popularity</td>\n",
       "      <td>1</td>\n",
       "      <td>0316666343</td>\n",
       "    </tr>\n",
       "    <tr>\n",
       "      <th>1</th>\n",
       "      <td>8</td>\n",
       "      <td>popularity</td>\n",
       "      <td>2</td>\n",
       "      <td>0385504209</td>\n",
       "    </tr>\n",
       "    <tr>\n",
       "      <th>2</th>\n",
       "      <td>8</td>\n",
       "      <td>popularity</td>\n",
       "      <td>3</td>\n",
       "      <td>0312195516</td>\n",
       "    </tr>\n",
       "    <tr>\n",
       "      <th>3</th>\n",
       "      <td>8</td>\n",
       "      <td>popularity</td>\n",
       "      <td>4</td>\n",
       "      <td>0142001740</td>\n",
       "    </tr>\n",
       "    <tr>\n",
       "      <th>4</th>\n",
       "      <td>8</td>\n",
       "      <td>popularity</td>\n",
       "      <td>5</td>\n",
       "      <td>059035342X</td>\n",
       "    </tr>\n",
       "    <tr>\n",
       "      <th>5</th>\n",
       "      <td>8</td>\n",
       "      <td>popularity</td>\n",
       "      <td>6</td>\n",
       "      <td>0060928336</td>\n",
       "    </tr>\n",
       "    <tr>\n",
       "      <th>6</th>\n",
       "      <td>8</td>\n",
       "      <td>popularity</td>\n",
       "      <td>7</td>\n",
       "      <td>0446672211</td>\n",
       "    </tr>\n",
       "    <tr>\n",
       "      <th>7</th>\n",
       "      <td>8</td>\n",
       "      <td>popularity</td>\n",
       "      <td>8</td>\n",
       "      <td>0345337662</td>\n",
       "    </tr>\n",
       "    <tr>\n",
       "      <th>8</th>\n",
       "      <td>8</td>\n",
       "      <td>popularity</td>\n",
       "      <td>9</td>\n",
       "      <td>0452282152</td>\n",
       "    </tr>\n",
       "    <tr>\n",
       "      <th>9</th>\n",
       "      <td>8</td>\n",
       "      <td>popularity</td>\n",
       "      <td>10</td>\n",
       "      <td>0316601950</td>\n",
       "    </tr>\n",
       "  </tbody>\n",
       "</table>\n",
       "</div>"
      ],
      "text/plain": [
       "   user_id       model  rank     item_id\n",
       "0        8  popularity     1  0316666343\n",
       "1        8  popularity     2  0385504209\n",
       "2        8  popularity     3  0312195516\n",
       "3        8  popularity     4  0142001740\n",
       "4        8  popularity     5  059035342X\n",
       "5        8  popularity     6  0060928336\n",
       "6        8  popularity     7  0446672211\n",
       "7        8  popularity     8  0345337662\n",
       "8        8  popularity     9  0452282152\n",
       "9        8  popularity    10  0316601950"
      ]
     },
     "execution_count": 90,
     "metadata": {},
     "output_type": "execute_result"
    }
   ],
   "source": [
    "# Format long table (setiap baris = 1 user-item)\n",
    "rows = []\n",
    "for i, user in enumerate(sample_users):\n",
    "    for model, recs in zip([\"popularity\", \"ibcf\", \"als\"], [pop_recs, ibcf_recs, als_recs]):\n",
    "        for rank, item in enumerate(recs[i], 1):\n",
    "            rows.append([user, model, rank, item])\n",
    "\n",
    "df_long = pd.DataFrame(rows, columns=['user_id', 'model', 'rank', 'item_id'])\n",
    "out_path = os.path.join(DATA_DIR, \"recs_submission_long.csv\")\n",
    "df_long.to_csv(out_path, index=False)\n",
    "print(\"File disimpan ke:\", out_path)\n",
    "df_long.head(10)\n"
   ]
  },
  {
   "cell_type": "code",
   "execution_count": null,
   "id": "c9604555-f501-4fb6-b070-90378544f9c1",
   "metadata": {},
   "outputs": [],
   "source": []
  }
 ],
 "metadata": {
  "kernelspec": {
   "display_name": "Python 3 (ipykernel)",
   "language": "python",
   "name": "python3"
  },
  "language_info": {
   "codemirror_mode": {
    "name": "ipython",
    "version": 3
   },
   "file_extension": ".py",
   "mimetype": "text/x-python",
   "name": "python",
   "nbconvert_exporter": "python",
   "pygments_lexer": "ipython3",
   "version": "3.12.3"
  }
 },
 "nbformat": 4,
 "nbformat_minor": 5
}
